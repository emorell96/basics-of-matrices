{
 "cells": [
  {
   "cell_type": "markdown",
   "metadata": {},
   "source": [
    "## Welcome to Python Numpy Arrays\n",
    "\n",
    "In this small notebook I will guide you through the basics of Numpy arrays and get you up to speed on how they work."
   ]
  },
  {
   "cell_type": "markdown",
   "metadata": {},
   "source": [
    "## The basics\n",
    "\n",
    "Numpy arrays are a way to define matrices and tensors (higher dimension matrices say a 3 by 3 by 3 'matrix') in python.\n",
    "\n",
    "They allow easier mathematical operations on them.\n",
    "\n",
    "And define things like the matrix multiplication."
   ]
  },
  {
   "cell_type": "markdown",
   "metadata": {},
   "source": [
    "To use numpy you must import it. I.e. tell python that it should use numpy by using:"
   ]
  },
  {
   "cell_type": "code",
   "execution_count": 1,
   "metadata": {},
   "outputs": [],
   "source": [
    "import numpy as np"
   ]
  },
  {
   "cell_type": "markdown",
   "metadata": {},
   "source": [
    "The 'as' part allows you to create an alias for that module. I.e. you can use numpy now by simply calling 'np' instead of 'numpy'"
   ]
  },
  {
   "cell_type": "code",
   "execution_count": 2,
   "metadata": {},
   "outputs": [
    {
     "name": "stdout",
     "output_type": "stream",
     "text": [
      "[[0. 0. 0.]\n",
      " [0. 0. 0.]]\n"
     ]
    }
   ],
   "source": [
    "# so you can now create a 2 by 3 matrix full of zeros like so:\n",
    "matrix = np.zeros((2,3))\n",
    "print(matrix)"
   ]
  },
  {
   "cell_type": "markdown",
   "metadata": {},
   "source": [
    "You could have just as well called 'import numpy' without the 'as' and it would work but you'd have to write 'numpy' every time instead of writing 'np' which is shorter. As so:"
   ]
  },
  {
   "cell_type": "code",
   "execution_count": 3,
   "metadata": {},
   "outputs": [
    {
     "name": "stdout",
     "output_type": "stream",
     "text": [
      "[[0. 0. 0.]\n",
      " [0. 0. 0.]]\n"
     ]
    }
   ],
   "source": [
    "import numpy\n",
    "matrix = numpy.zeros((2,3)) # I use 'numpy' instead of 'np'\n",
    "print(matrix)"
   ]
  },
  {
   "cell_type": "markdown",
   "metadata": {},
   "source": [
    "### Create Matrices\n",
    "If you want to create a matrix the usual way of doing this is to first create a list of lists where each inner list represents a row in the matrix and call np.array on it:"
   ]
  },
  {
   "cell_type": "code",
   "execution_count": 4,
   "metadata": {},
   "outputs": [
    {
     "name": "stdout",
     "output_type": "stream",
     "text": [
      "[[1 2 3]\n",
      " [3 2 1]]\n"
     ]
    }
   ],
   "source": [
    "#let's import numpy\n",
    "import numpy as np\n",
    "listoflists = [ [1, 2, 3], [3, 2, 1]] # first list inside of the list is the first row. The second one will be the second row\n",
    "numpyarray = np.array(listoflists) #this will make my list of lists into a numpy array that works like a matrix\n",
    "print(numpyarray)"
   ]
  },
  {
   "cell_type": "markdown",
   "metadata": {},
   "source": [
    "#### Exercise:\n",
    "Try to make a 2 by 3 matrix with the following entries: \n",
    "\n",
    "0, 5, 6\n",
    "\n",
    "7, 2, -1\n",
    "\n",
    "Print the matrix you've created at the end, it should look as:\n",
    "\n",
    "[[0 5 6]\n",
    "\n",
    " [7 2 -1]]"
   ]
  },
  {
   "cell_type": "code",
   "execution_count": null,
   "metadata": {},
   "outputs": [],
   "source": [
    "#code in here."
   ]
  },
  {
   "cell_type": "markdown",
   "metadata": {},
   "source": [
    "#### Exercise:\n",
    "\n",
    "Try to make a 3 by 3 matrix with only ones in the diagonal and zeros elsewhere.\n",
    "\n",
    "1, 0, 0\n",
    "\n",
    "0, 1, 0\n",
    "\n",
    "0, 0, 1"
   ]
  },
  {
   "cell_type": "code",
   "execution_count": null,
   "metadata": {},
   "outputs": [],
   "source": [
    "#create your matrix here."
   ]
  },
  {
   "cell_type": "markdown",
   "metadata": {},
   "source": [
    "### Zeros, ones, and identity\n",
    "\n",
    "Now that we have covered how to create a basic matrix manually, let's see what the functions zeros, ones and identity do:"
   ]
  },
  {
   "cell_type": "code",
   "execution_count": 5,
   "metadata": {},
   "outputs": [
    {
     "name": "stdout",
     "output_type": "stream",
     "text": [
      "[[0. 0. 0.]\n",
      " [0. 0. 0.]]\n"
     ]
    }
   ],
   "source": [
    "print(np.zeros((2, 3)))"
   ]
  },
  {
   "cell_type": "markdown",
   "metadata": {},
   "source": [
    "As you can see it creates a matrix full of zeros of shape 2 by 3.\n",
    "What do you think the function ones will do? Try to guess first and then run the code below:"
   ]
  },
  {
   "cell_type": "code",
   "execution_count": null,
   "metadata": {},
   "outputs": [],
   "source": [
    "print(np.ones((2,3)))"
   ]
  },
  {
   "cell_type": "markdown",
   "metadata": {},
   "source": [
    "What about the identity matrix? There's a function to make those easily for a SQUARE matrix."
   ]
  },
  {
   "cell_type": "code",
   "execution_count": null,
   "metadata": {},
   "outputs": [],
   "source": [
    "np.identity(3) # creates the identity matrix for a square matrix of size 3 by 3. \n",
    "#run the code using the play button and you will see the output below (only in a Jupyter notebook - use print in a script)"
   ]
  },
  {
   "cell_type": "markdown",
   "metadata": {},
   "source": [
    "### Exercise\n",
    "\n",
    "1. Create a matrix full of zeros of shape 10 by 15. Do not do it manually, use numpy's zeros function.\n",
    "2. Create a matrix full of ones of shape 5 by 8. Use numpy's ones function.\n",
    "3. Create an identity matrix with size of 10 (10 by 10)."
   ]
  },
  {
   "cell_type": "code",
   "execution_count": null,
   "metadata": {},
   "outputs": [],
   "source": [
    "#1"
   ]
  },
  {
   "cell_type": "code",
   "execution_count": null,
   "metadata": {},
   "outputs": [],
   "source": [
    "#2"
   ]
  },
  {
   "cell_type": "code",
   "execution_count": null,
   "metadata": {},
   "outputs": [],
   "source": [
    "#3"
   ]
  },
  {
   "cell_type": "markdown",
   "metadata": {},
   "source": [
    "### Accessing an element of the matrix\n",
    "\n",
    "How would you access an element i,j in the matrix?\n",
    "\n",
    "You would use:"
   ]
  },
  {
   "cell_type": "code",
   "execution_count": 8,
   "metadata": {},
   "outputs": [
    {
     "data": {
      "text/plain": [
       "1"
      ]
     },
     "execution_count": 8,
     "metadata": {},
     "output_type": "execute_result"
    }
   ],
   "source": [
    "matrix = np.array([[1, 2, 3], [3, 2, 1]])\n",
    "matrix[1, 2] #access the 2nd row and the 3rd element."
   ]
  },
  {
   "cell_type": "markdown",
   "metadata": {},
   "source": [
    "You can also change the value of that element:"
   ]
  },
  {
   "cell_type": "code",
   "execution_count": 9,
   "metadata": {},
   "outputs": [
    {
     "name": "stdout",
     "output_type": "stream",
     "text": [
      "[[1 2 3]\n",
      " [3 2 1]]\n",
      "[[1 2 3]\n",
      " [3 2 5]]\n"
     ]
    }
   ],
   "source": [
    "print(\"Before\")\n",
    "print(matrix)\n",
    "matrix[1, 2] = 5\n",
    "print(\"After\")\n",
    "print(matrix)"
   ]
  },
  {
   "cell_type": "markdown",
   "metadata": {},
   "source": [
    "### Exercise:\n",
    "\n",
    "Access the first row, and second column element of matrix below:"
   ]
  },
  {
   "cell_type": "code",
   "execution_count": null,
   "metadata": {},
   "outputs": [],
   "source": [
    "matrix = np.array([[1, 2, 3], [3, 2, 1]])\n",
    "#access and print the first row, second column: Remember that we count from 0 in python.\n",
    "\n",
    "\n"
   ]
  },
  {
   "cell_type": "markdown",
   "metadata": {},
   "source": [
    "### Iterating through the matrix.\n",
    "\n",
    "Say you have the matrix now created and you wanted to iterate through it, going cell by cell. Imagine an excel sheet, where you want to visit each cell.\n",
    "How would you do that? The easiest way would be to use a for loop."
   ]
  },
  {
   "cell_type": "code",
   "execution_count": null,
   "metadata": {},
   "outputs": [],
   "source": [
    "#Create a matrix called matrix that is 5 by 10 full of ones:\n",
    "matrix = ? #your code here"
   ]
  },
  {
   "cell_type": "markdown",
   "metadata": {},
   "source": [
    "Now I am going to iterate through your matrix which should be 5 rows and 10 columns and add 2 to each cell. Look at the result."
   ]
  },
  {
   "cell_type": "code",
   "execution_count": null,
   "metadata": {},
   "outputs": [],
   "source": [
    "for i in range(5):\n",
    "    for j in range(10):\n",
    "        matrix[i, j] = matrix[i, j] + 2\n",
    "print(matrix)"
   ]
  },
  {
   "cell_type": "markdown",
   "metadata": {},
   "source": [
    "### Excercise:\n",
    "\n",
    "Create a matrix again this time the identity matrix of size 15.\n",
    "\n",
    "Add 2 to every item on the diagonal. How would you recognize an item on the diagonal?"
   ]
  },
  {
   "cell_type": "code",
   "execution_count": null,
   "metadata": {},
   "outputs": [],
   "source": [
    "### write your code here."
   ]
  },
  {
   "cell_type": "markdown",
   "metadata": {},
   "source": [
    "Let's add complexity. What if we wanted to start with a matrix full of zeros. And make all the borders equal to one?"
   ]
  },
  {
   "cell_type": "markdown",
   "metadata": {},
   "source": [
    "First, can you create a matrix with only zeroes of size 10 by 10?"
   ]
  },
  {
   "cell_type": "code",
   "execution_count": null,
   "metadata": {},
   "outputs": [],
   "source": [
    "#create your matrix here"
   ]
  },
  {
   "cell_type": "markdown",
   "metadata": {},
   "source": [
    "Now can you iterate through the matrix and making all the border elements equal to one? Try to do this without looking at the partial solution below."
   ]
  },
  {
   "cell_type": "code",
   "execution_count": null,
   "metadata": {},
   "outputs": [],
   "source": [
    "#your attempt."
   ]
  },
  {
   "cell_type": "code",
   "execution_count": 3,
   "metadata": {},
   "outputs": [
    {
     "name": "stdout",
     "output_type": "stream",
     "text": [
      "[[1. 1. 1. 1. 1. 1. 1. 1. 1. 1.]\n",
      " [0. 0. 0. 0. 0. 0. 0. 0. 0. 0.]\n",
      " [0. 0. 0. 0. 0. 0. 0. 0. 0. 0.]\n",
      " [0. 0. 0. 0. 0. 0. 0. 0. 0. 0.]\n",
      " [0. 0. 0. 0. 0. 0. 0. 0. 0. 0.]\n",
      " [0. 0. 0. 0. 0. 0. 0. 0. 0. 0.]\n",
      " [0. 0. 0. 0. 0. 0. 0. 0. 0. 0.]\n",
      " [0. 0. 0. 0. 0. 0. 0. 0. 0. 0.]\n",
      " [0. 0. 0. 0. 0. 0. 0. 0. 0. 0.]\n",
      " [0. 0. 0. 0. 0. 0. 0. 0. 0. 0.]]\n"
     ]
    }
   ],
   "source": [
    "#partial solution\n",
    "import numpy as np\n",
    "#partial solution:\n",
    "matrix = np.zeros((10, 10))\n",
    "for i in range(10):\n",
    "    for j in range(10):\n",
    "        if(i == 0): #if the row is the top row then do the following.\n",
    "            matrix[i, j] = 1\n",
    "print(matrix)\n",
    "\n",
    "#if you looked at the solution modify the code above to make all the zeros, ones in the left, right, and bottom border."
   ]
  },
  {
   "cell_type": "markdown",
   "metadata": {},
   "source": [
    "## Quick reminder on functions:\n",
    "\n",
    "Let's go over the functions real quick to make sure you are up to date.\n",
    "\n",
    "A function is some code that allows you to run the same code multiple times without having to write it again."
   ]
  },
  {
   "cell_type": "code",
   "execution_count": 5,
   "metadata": {},
   "outputs": [],
   "source": [
    "def add(x):\n",
    "    return x + 2"
   ]
  },
  {
   "cell_type": "markdown",
   "metadata": {},
   "source": [
    "This defines a function called 'add' that takes a variable 'x' and adds 2 to it and returns the result. We can now use it multiple times:"
   ]
  },
  {
   "cell_type": "code",
   "execution_count": 7,
   "metadata": {},
   "outputs": [
    {
     "name": "stdout",
     "output_type": "stream",
     "text": [
      "7\n",
      "12\n",
      "107\n"
     ]
    }
   ],
   "source": [
    "x = add(5) # result will be 7\n",
    "y = add(10) #result will be 12\n",
    "z = add(105) #result will be 107\n",
    "print(x)\n",
    "print(y)\n",
    "print(z)"
   ]
  },
  {
   "cell_type": "markdown",
   "metadata": {},
   "source": [
    "### Exercice\n",
    "\n",
    "Create a function call substract that substracts 7 from a given number."
   ]
  },
  {
   "cell_type": "code",
   "execution_count": 10,
   "metadata": {},
   "outputs": [],
   "source": [
    "# code here\n"
   ]
  },
  {
   "cell_type": "code",
   "execution_count": null,
   "metadata": {},
   "outputs": [],
   "source": [
    "# run this to verify your function, make sure you run your cell first and that your function is called 'substract'\n",
    "value = True\n",
    "for i in range(100):\n",
    "    value *= (substract(i) == i - 7)\n",
    "if(value):\n",
    "    print(\"Your function worked as expected for 0, to 99.\")\n",
    "else:\n",
    "    print(\"Your function didn't substract 7 to every number as expected.\")"
   ]
  },
  {
   "cell_type": "markdown",
   "metadata": {},
   "source": [
    "### Exercise\n",
    "\n",
    "Create a function that will substract 5 if the number is odd (use %) or add 2 if the number is even. See https://stackoverflow.com/a/13636743/6451669"
   ]
  },
  {
   "cell_type": "code",
   "execution_count": null,
   "metadata": {},
   "outputs": [],
   "source": [
    "## create your function"
   ]
  },
  {
   "cell_type": "markdown",
   "metadata": {},
   "source": [
    "### Exercise\n",
    "\n",
    "Create a function that calculates the nth number of the [Fibonnaci sequence](https://en.wikipedia.org/wiki/Fibonacci_number#Definition).\n",
    "\n",
    "HINT: Inside a given function f you can call the f function too. It's called a [Recursive Function](https://www.w3schools.com/python/gloss_python_function_recursion.asp#:~:text=Python%20also%20accepts%20function%20recursion,data%20to%20reach%20a%20result.)"
   ]
  },
  {
   "cell_type": "code",
   "execution_count": null,
   "metadata": {},
   "outputs": [],
   "source": [
    "# code here:\n"
   ]
  },
  {
   "cell_type": "code",
   "execution_count": 13,
   "metadata": {},
   "outputs": [],
   "source": [
    "#solution (try not to look first)\n",
    "def fibonnaci(n):\n",
    "    if(n == 0):\n",
    "        return 0\n",
    "    if(n == 1):\n",
    "        return 1\n",
    "    return fibonnaci(n-1) + fibonnaci(n-2)"
   ]
  },
  {
   "cell_type": "code",
   "execution_count": 15,
   "metadata": {},
   "outputs": [
    {
     "data": {
      "text/plain": [
       "233"
      ]
     },
     "execution_count": 15,
     "metadata": {},
     "output_type": "execute_result"
    }
   ],
   "source": [
    "fibonnaci(13)"
   ]
  },
  {
   "cell_type": "markdown",
   "metadata": {},
   "source": [
    "## Imshow reminder\n",
    "\n",
    "Let's go over the imshow function quickly for us to remember how to use it."
   ]
  },
  {
   "cell_type": "code",
   "execution_count": 24,
   "metadata": {},
   "outputs": [
    {
     "data": {
      "text/plain": [
       "<matplotlib.image.AxesImage at 0x287f2e62280>"
      ]
     },
     "execution_count": 24,
     "metadata": {},
     "output_type": "execute_result"
    },
    {
     "data": {
      "image/png": "[encoded data removed]",
      "text/plain": [
       "<Figure size 432x288 with 1 Axes>"
      ]
     },
     "metadata": {
      "needs_background": "light"
     },
     "output_type": "display_data"
    }
   ],
   "source": [
    "from matplotlib import pyplot as plt\n",
    "#create a matrix full of zeros\n",
    "m = np.zeros((5,5))\n",
    "#make the diagonal full of ones:\n",
    "for i in range(5):\n",
    "    m[i, i] = 1\n",
    "plt.imshow(m)\n"
   ]
  },
  {
   "cell_type": "markdown",
   "metadata": {},
   "source": [
    "Your turn:\n",
    "\n",
    "## Exercise\n",
    "\n",
    "Create a matrix with zeros of size 50 by 50.\n",
    "\n",
    "Make every cell where both i and j are even equal to one by iterating through your matrix.\n",
    "\n",
    "Make every cell where both i and j are odd equal to 0.5 by iterating through your matrix.\n",
    "\n",
    "Call plt.imshow on the matrix you've created."
   ]
  },
  {
   "cell_type": "code",
   "execution_count": null,
   "metadata": {},
   "outputs": [],
   "source": [
    "# your code here."
   ]
  },
  {
   "cell_type": "markdown",
   "metadata": {},
   "source": [
    "### Let's paint a line on a matrix\n",
    "\n",
    "Now that we have got the basics covered let's get coding for painting a line on a matrix.\n",
    "\n",
    "Let's define our goals so to be extremely clear:\n",
    "\n",
    "We want to 'color' between pixel (x0, y0) and (x1, y1) in a straight line between them.\n",
    "\n",
    "We will represent the image as a matrix of size 512 by 512."
   ]
  },
  {
   "cell_type": "markdown",
   "metadata": {},
   "source": [
    "## Exercice:\n",
    "\n",
    "Create an matrix full of zeros of shape 512 by 512.\n",
    "\n",
    "Name the number of pixels in the x direction XSize. And the number of pixels in the y direction YSize so that we can change them later if needed.\n",
    "\n",
    "i.e.\n",
    "```python\n",
    "XSize = 512\n",
    "YSize = ...\n",
    "matrix = np.function_to_call_to_make_a_matrix_full_of_zeroes... #if you did the previous exercices you should know what to do here.\n",
    "```"
   ]
  },
  {
   "cell_type": "code",
   "execution_count": null,
   "metadata": {},
   "outputs": [],
   "source": [
    "#do your code here. Make sure to call the variable containing the matrix 'matrix'.\n",
    "XSize = ...\n",
    "YSize = ...\n",
    "\n",
    "matrix = ..."
   ]
  },
  {
   "cell_type": "markdown",
   "metadata": {},
   "source": [
    "How do we define a line mathematically?\n",
    "\n",
    "We usually use the `y = a x + b` equation. Where `a` is the slope and `b` the y-intercept. This works for any float value but doesn't work that well if we need integer values, but we can always round up or down using `int`\n",
    "\n",
    "We know that the equation of a line can also be written as a function of two of its points: (x1, y1) (x2, y2):\n",
    "`y = (y2 - y1)/(x2 - x1) * x - y1` if you want to see how to prove this check out: https://www.cuemath.com/geometry/point-slope-form/"
   ]
  },
  {
   "cell_type": "markdown",
   "metadata": {},
   "source": [
    "### Exercise:\n",
    "\n",
    "Create a function 'line' in python that calculates the y value of a given x coordinate using the point slope form equation above given two points (x1, y1), (x2, y2)"
   ]
  },
  {
   "cell_type": "code",
   "execution_count": null,
   "metadata": {},
   "outputs": [],
   "source": [
    "def line(x, x1, y1, x2, y2):\n",
    "    #define your function below. #delete the pass keyword below. #you must return a float.\n",
    "    pass"
   ]
  },
  {
   "cell_type": "markdown",
   "metadata": {},
   "source": [
    "So now we have a matrix full of 0s how can we draw a line here?\n",
    "\n",
    "Well we can go from x1 to x2 and change the color of each corresponding y value using the above function.\n",
    "\n",
    "say you have `x` and `x` is between x1 and x2 such as `x1 < x` and `x2 > x`.\n",
    "\n",
    "Then y = line(x, x1, y1, x2, y2)\n",
    "\n",
    "But y will be a float. Something like 5.545 for example. You cannot use floats when accessing items in a matrix. So instead we can use `int` to make the float into an integer and round:\n",
    "```python\n",
    "y = int(line(x, x1, y1, x2, y2))\n",
    "```\n",
    "y is now an integer."
   ]
  },
  {
   "cell_type": "markdown",
   "metadata": {},
   "source": [
    "### Exercise:\n",
    "\n",
    "Create a function `draw` that will take `x1`, `y1`, `x2`, `y2` and will draw between these points as explained below:\n",
    "1. iterate through the matrix you defined previously.\n",
    "\n",
    "    2. Inside the for loop check if the `x` coordinate is between `x1` and `x2`.\n",
    "    3. If it is, then calculate the y value using the function `line` defined above.\n",
    "    4. Make sure to convert the float into an integer using `int`, let's call this value `y_val`\n",
    "    5. Access the (`x`, `y_val`) cell **IF IT EXISTS** on the matrix and change its value from 0 to 1.\n",
    "\n",
    "Test the function between two points (256,256) and (512, 512) you should see a line one pixel wide between the two points if you plot this using plt.imshow"
   ]
  },
  {
   "cell_type": "code",
   "execution_count": null,
   "metadata": {},
   "outputs": [],
   "source": [
    "#code here\n",
    "def draw(x, x1, y1, x2, y2):\n",
    "    #rest of the function\n",
    "    pass"
   ]
  },
  {
   "cell_type": "markdown",
   "metadata": {},
   "source": [
    "### Exercise:\n",
    "\n",
    "At this point you should be able to use the function draw to draw a line between any 2 points as long as your line is not vertical.\n",
    "\n",
    "Try to use `draw` with a vertical line. What happens?\n",
    "\n",
    "Recreate your function `draw` below and adapt it to detect when the requested line is a vertical line and handle it. You can simply color between y1 and y2 for `x = x1 = x2`."
   ]
  },
  {
   "cell_type": "code",
   "execution_count": null,
   "metadata": {},
   "outputs": [],
   "source": [
    "#your code here"
   ]
  },
  {
   "cell_type": "markdown",
   "metadata": {},
   "source": [
    "### Exercise\n",
    "\n",
    "Put everything together and call draw three times between the three different points of the triangle."
   ]
  },
  {
   "cell_type": "code",
   "execution_count": null,
   "metadata": {},
   "outputs": [],
   "source": [
    "#your code here"
   ]
  }
 ],
 "metadata": {
  "interpreter": {
   "hash": "0659bf02d94dd504c60c2ae2ecf41b62e05a758bb336586346e174a49589cc1b"
  },
  "kernelspec": {
   "display_name": "Python 3.9.7 ('base')",
   "language": "python",
   "name": "python3"
  },
  "language_info": {
   "codemirror_mode": {
    "name": "ipython",
    "version": 3
   },
   "file_extension": ".py",
   "mimetype": "text/x-python",
   "name": "python",
   "nbconvert_exporter": "python",
   "pygments_lexer": "ipython3",
   "version": "3.9.7"
  },
  "orig_nbformat": 4
 },
 "nbformat": 4,
 "nbformat_minor": 2
}
